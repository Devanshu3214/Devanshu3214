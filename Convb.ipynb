{
  "nbformat": 4,
  "nbformat_minor": 0,
  "metadata": {
    "colab": {
      "provenance": [],
      "authorship_tag": "ABX9TyPmEQ07S5asRuKZYLduAgKm",
      "include_colab_link": true
    },
    "kernelspec": {
      "name": "python3",
      "display_name": "Python 3"
    },
    "language_info": {
      "name": "python"
    }
  },
  "cells": [
    {
      "cell_type": "markdown",
      "metadata": {
        "id": "view-in-github",
        "colab_type": "text"
      },
      "source": [
        "<a href=\"https://colab.research.google.com/github/Devanshu3214/Devanshu3214/blob/main/Convb.ipynb\" target=\"_parent\"><img src=\"https://colab.research.google.com/assets/colab-badge.svg\" alt=\"Open In Colab\"/></a>"
      ]
    },
    {
      "cell_type": "code",
      "execution_count": 109,
      "metadata": {
        "id": "pPeC98eAyJoG"
      },
      "outputs": [],
      "source": [
        "import pandas as pd\n",
        "import numpy as np"
      ]
    },
    {
      "cell_type": "code",
      "source": [
        "file1=pd.read_excel('/content/Toys.xlsx')"
      ],
      "metadata": {
        "id": "YfTXr8Zjye1Z"
      },
      "execution_count": 110,
      "outputs": []
    },
    {
      "cell_type": "code",
      "source": [
        "file1.head"
      ],
      "metadata": {
        "colab": {
          "base_uri": "https://localhost:8080/"
        },
        "id": "MUmohQm4yiFT",
        "outputId": "d8b8f2c6-4f9c-4ec1-c13e-31d08b0218c0"
      },
      "execution_count": 111,
      "outputs": [
        {
          "output_type": "execute_result",
          "data": {
            "text/plain": [
              "<bound method NDFrame.head of                                                  Names  \\\n",
              "0    Beyblade Metal Fusion Battle Tops - Ultimate M...   \n",
              "1    Blizzard Entertainment World of Warcraft Illid...   \n",
              "2              Calico Critters Cottontail Rabbit Twins   \n",
              "3     DC Universe Total Heroes Exclusive Batman Beyond   \n",
              "4    Discovery Toys MarbleworksÃ¢Â® Marble Run Star...   \n",
              "..                                                 ...   \n",
              "321       Gungun Toys Best Wishes Teddy Bear  - 111 cm   \n",
              "322                           Marami 9 10 7  - 13 inch   \n",
              "323                MK Teddy Minion double eye  - 35 cm   \n",
              "324  Smiledrive Snuggle Arm Shaped Stuffed Pillow T...   \n",
              "325                              Surbhi Bunny  - 60 cm   \n",
              "\n",
              "                                              Category  ActualPrice  \\\n",
              "0    [\"Toys & School Supplies >> Action Figures >> ...      10416.0   \n",
              "1    [\"Toys & School Supplies >> Action Figures >> ...       3219.0   \n",
              "2    [\"Toys & School Supplies >> Action Figures >> ...       4022.0   \n",
              "3    [\"Toys & School Supplies >> Action Figures >> ...       8036.0   \n",
              "4    [\"Toys & School Supplies >> Action Figures >> ...      11435.0   \n",
              "..                                                 ...          ...   \n",
              "321  [\"Toys & School Supplies >> Soft Toys >> Gungu...       1599.0   \n",
              "322  [\"Toys & School Supplies >> Soft Toys >> Maram...       1200.0   \n",
              "323  [\"Toys & School Supplies >> Soft Toys >> MK Te...       1370.0   \n",
              "324  [\"Toys & School Supplies >> Soft Toys >> Smile...       1499.0   \n",
              "325  [\"Toys & School Supplies >> Soft Toys >> Surbh...        900.0   \n",
              "\n",
              "     DiscountedPrice                                              Links  \\\n",
              "0             8853.0  [\"http://img5a.flixcart.com/image/action-figur...   \n",
              "1             2736.0  [\"http://img6a.flixcart.com/image/action-figur...   \n",
              "2             3418.0  [\"http://img5a.flixcart.com/image/action-figur...   \n",
              "3             6830.0  [\"http://img5a.flixcart.com/image/action-figur...   \n",
              "4             9719.0  [\"http://img5a.flixcart.com/image/action-figur...   \n",
              "..               ...                                                ...   \n",
              "321           1039.0  [\"http://img5a.flixcart.com/image/stuffed-toy/...   \n",
              "322            799.0  [\"http://img5a.flixcart.com/image/stuffed-toy/...   \n",
              "323           1150.0  [\"http://img6a.flixcart.com/image/stuffed-toy/...   \n",
              "324            899.0  [\"http://img6a.flixcart.com/image/stuffed-toy/...   \n",
              "325            525.0  [\"http://img5a.flixcart.com/image/stuffed-toy/...   \n",
              "\n",
              "                                            Unnamed: 5  \\\n",
              "0    Specifications of Beyblade Metal Fusion Battle...   \n",
              "1    Key Features of Blizzard Entertainment World o...   \n",
              "2    Key Features of Calico Critters Cottontail Rab...   \n",
              "3    Specifications of DC Universe Total Heroes Exc...   \n",
              "4    Key Features of Discovery Toys MarbleworksÃ¢Â®...   \n",
              "..                                                 ...   \n",
              "321  Buy Gungun Toys Best Wishes Teddy Bear  - 111 ...   \n",
              "322  Key Features of Marami 9 10 7  - 13 inch Type:...   \n",
              "323  Buy MK Teddy Minion double eye  - 35 cm Minion...   \n",
              "324  Buy Smiledrive Snuggle Arm Shaped Stuffed Pill...   \n",
              "325  Buy Surbhi Bunny  - 60 cm Bunny from Flipkart....   \n",
              "\n",
              "                                         Specification  \n",
              "0    {\"product_specification\"=>[{\"key\"=>\"Age Group\"...  \n",
              "1    {\"product_specification\"=>[{\"key\"=>\"Age Group\"...  \n",
              "2    {\"product_specification\"=>[{\"key\"=>\"Age Group\"...  \n",
              "3    {\"product_specification\"=>{\"key\"=>\"Character\",...  \n",
              "4    {\"product_specification\"=>[{\"key\"=>\"Age Group\"...  \n",
              "..                                                 ...  \n",
              "321  {\"product_specification\"=>[{\"key\"=>\"Product We...  \n",
              "322  {\"product_specification\"=>[{\"key\"=>\"Product De...  \n",
              "323  {\"product_specification\"=>[{\"key\"=>\"Product We...  \n",
              "324  {\"product_specification\"=>[{\"key\"=>\"Product We...  \n",
              "325  {\"product_specification\"=>[{\"key\"=>\"Product We...  \n",
              "\n",
              "[326 rows x 7 columns]>"
            ]
          },
          "metadata": {},
          "execution_count": 111
        }
      ]
    },
    {
      "cell_type": "code",
      "source": [
        "linksdf=file1['Links']"
      ],
      "metadata": {
        "id": "fuTWYYOpynrx"
      },
      "execution_count": 112,
      "outputs": []
    },
    {
      "cell_type": "code",
      "source": [
        "linksdf"
      ],
      "metadata": {
        "colab": {
          "base_uri": "https://localhost:8080/"
        },
        "id": "fue9xxkUzs-W",
        "outputId": "1cfbb2f4-2641-4f8c-dbaf-7796bcd6250a"
      },
      "execution_count": 113,
      "outputs": [
        {
          "output_type": "execute_result",
          "data": {
            "text/plain": [
              "0      [\"http://img5a.flixcart.com/image/action-figur...\n",
              "1      [\"http://img6a.flixcart.com/image/action-figur...\n",
              "2      [\"http://img5a.flixcart.com/image/action-figur...\n",
              "3      [\"http://img5a.flixcart.com/image/action-figur...\n",
              "4      [\"http://img5a.flixcart.com/image/action-figur...\n",
              "                             ...                        \n",
              "321    [\"http://img5a.flixcart.com/image/stuffed-toy/...\n",
              "322    [\"http://img5a.flixcart.com/image/stuffed-toy/...\n",
              "323    [\"http://img6a.flixcart.com/image/stuffed-toy/...\n",
              "324    [\"http://img6a.flixcart.com/image/stuffed-toy/...\n",
              "325    [\"http://img5a.flixcart.com/image/stuffed-toy/...\n",
              "Name: Links, Length: 326, dtype: object"
            ]
          },
          "metadata": {},
          "execution_count": 113
        }
      ]
    },
    {
      "cell_type": "code",
      "source": [
        "actualpricedf=file1['ActualPrice']\n",
        "discountpricedf=file1['DiscountedPrice']"
      ],
      "metadata": {
        "id": "Mxu-WiNtzwnv"
      },
      "execution_count": 114,
      "outputs": []
    },
    {
      "cell_type": "code",
      "source": [
        "namedf=file1['Names']"
      ],
      "metadata": {
        "id": "eoDidAVg0HsD"
      },
      "execution_count": 115,
      "outputs": []
    },
    {
      "cell_type": "code",
      "source": [
        "specificationdf=file1['Specification']"
      ],
      "metadata": {
        "id": "sRF4pEQd0MMn"
      },
      "execution_count": 116,
      "outputs": []
    },
    {
      "cell_type": "code",
      "source": [
        "import json"
      ],
      "metadata": {
        "id": "cmMnECOnya4Q"
      },
      "execution_count": 117,
      "outputs": []
    },
    {
      "cell_type": "code",
      "source": [
        "specificationdf"
      ],
      "metadata": {
        "colab": {
          "base_uri": "https://localhost:8080/"
        },
        "id": "4L3p3WoY0yXA",
        "outputId": "f7a116f3-4309-4e38-c230-452dd8168e53"
      },
      "execution_count": 118,
      "outputs": [
        {
          "output_type": "execute_result",
          "data": {
            "text/plain": [
              "0      {\"product_specification\"=>[{\"key\"=>\"Age Group\"...\n",
              "1      {\"product_specification\"=>[{\"key\"=>\"Age Group\"...\n",
              "2      {\"product_specification\"=>[{\"key\"=>\"Age Group\"...\n",
              "3      {\"product_specification\"=>{\"key\"=>\"Character\",...\n",
              "4      {\"product_specification\"=>[{\"key\"=>\"Age Group\"...\n",
              "                             ...                        \n",
              "321    {\"product_specification\"=>[{\"key\"=>\"Product We...\n",
              "322    {\"product_specification\"=>[{\"key\"=>\"Product De...\n",
              "323    {\"product_specification\"=>[{\"key\"=>\"Product We...\n",
              "324    {\"product_specification\"=>[{\"key\"=>\"Product We...\n",
              "325    {\"product_specification\"=>[{\"key\"=>\"Product We...\n",
              "Name: Specification, Length: 326, dtype: object"
            ]
          },
          "metadata": {},
          "execution_count": 118
        }
      ]
    },
    {
      "cell_type": "code",
      "source": [
        "for i in range(len(specificationdf)):\n",
        "  corrected_data = specificationdf[i].replace('=>', ':')\n",
        "  try:\n",
        "    parsed_data = json.loads(corrected_data)\n",
        "  except json.JSONDecodeError as e:\n",
        "      print(\"JSON parsing error:\", e)\n",
        "      print(\"Problematic input data:\", corrected_data)\n",
        "  product_spec = parsed_data.get(\"product_specification\", [])\n",
        "  try:\n",
        "    formatted_spec = ', '.join([entry[\"value\"] for entry in product_spec if \"value\" in entry])\n",
        "  except:\n",
        "    print(\"DataEror\")\n",
        "  formatted_text = f\"{formatted_spec}\"\n",
        "  #print(formatted_text)\n",
        "  specificationdf[i]=formatted_text"
      ],
      "metadata": {
        "colab": {
          "base_uri": "https://localhost:8080/"
        },
        "id": "oNQ5rRQ0x5Wg",
        "outputId": "f8041b5e-6d63-4c10-fdbc-9d157b838d02"
      },
      "execution_count": 121,
      "outputs": [
        {
          "output_type": "stream",
          "name": "stdout",
          "text": [
            "JSON parsing error: Extra data: line 1 column 3 (char 2)\n",
            "Problematic input data: 5 - 14 Years, Boys, Girls, Action Figure Accessories, Playsets\n",
            "DataEror\n",
            "JSON parsing error: Extra data: line 1 column 3 (char 2)\n",
            "Problematic input data: 3 - 6 Years, Boys, Girls, Action Figure Accessories, Action Figures\n",
            "DataEror\n",
            "JSON parsing error: Extra data: line 1 column 3 (char 2)\n",
            "Problematic input data: 3 - 6 Years, Boys, Girls, Action Figure Accessories, Action Figures\n",
            "DataEror\n",
            "DataEror\n",
            "DataEror\n",
            "DataEror\n",
            "DataEror\n",
            "DataEror\n",
            "DataEror\n",
            "DataEror\n",
            "DataEror\n",
            "DataEror\n",
            "DataEror\n",
            "DataEror\n",
            "DataEror\n"
          ]
        },
        {
          "output_type": "stream",
          "name": "stderr",
          "text": [
            "<ipython-input-121-3eaa547bf881>:15: SettingWithCopyWarning: \n",
            "A value is trying to be set on a copy of a slice from a DataFrame\n",
            "\n",
            "See the caveats in the documentation: https://pandas.pydata.org/pandas-docs/stable/user_guide/indexing.html#returning-a-view-versus-a-copy\n",
            "  specificationdf[i]=formatted_text\n"
          ]
        }
      ]
    },
    {
      "cell_type": "code",
      "source": [
        "def write_sentences_to_file(text, filename):\n",
        "    try:\n",
        "        with open(filename, 'a') as file:\n",
        "                file.write(f\"{{{text}}},\"+ '\\n\\n')\n",
        "        print(\"Sentences written to\", filename)\n",
        "    except IOError as e:\n",
        "        print(\"Error writing to file:\", str(e))"
      ],
      "metadata": {
        "id": "sHbKZ0Te3jqE"
      },
      "execution_count": 122,
      "outputs": []
    },
    {
      "cell_type": "markdown",
      "source": [
        "{\n",
        "    _id: uuid(),\n",
        "    title: \"Pirate Hunter\",\n",
        "    imgSrc:\n",
        "      \"https://comicsense.b-cdn.net/wp-content/uploads/2023/04/onepiece_zoro_piratehuntersantoryu_listing2_hitanshi-1-scaled.jpg\",\n",
        "    description:\n",
        "      \"180 GSM, 100% Cotton, Pre-Shrunk & Bio-Washed Fabric,Screen Printed, Oversize Fit,Colors may vary due to photography and your screen setting\",\n",
        "    price: 699,\n",
        "    updatedPrice: 499,\n",
        "    starRating: 3.5,\n",
        "    size: \"Oversize\",\n",
        "    inStock: true,\n",
        "    fastDelivery: true,\n",
        "    category: \"Oversize\",\n",
        "  },\n",
        "  "
      ],
      "metadata": {
        "id": "7dAbSv_Z04x0"
      }
    },
    {
      "cell_type": "code",
      "source": [
        "for i in range(len(linksdf)):\n",
        "  text=\"\"\"_id:uuid(),\\ntitle:\"{}\",\\nimgSrc:\"{}\",\\ndescription:\"{}\",\\nprice:{},\\nupdatedPrice:{},\\nstarRating:3,\\nsize:\"{}\",\\ninstock:true,\\nfastDelivery:true,\\ncategory:\"{}\",\"\"\".format(namedf[i],eval(linksdf[i])[0],specificationdf[i],actualpricedf[i],discountpricedf[i],\"Oversized\",\"Oversize\")\n",
        "  write_sentences_to_file(text,'Toysdf1.txt')\n"
      ],
      "metadata": {
        "colab": {
          "base_uri": "https://localhost:8080/"
        },
        "id": "VDyrGygx0XxR",
        "outputId": "e734d568-77fa-4916-aa32-491950dd16db"
      },
      "execution_count": 124,
      "outputs": [
        {
          "output_type": "stream",
          "name": "stdout",
          "text": [
            "Sentences written to Toysdf1.txt\n",
            "Sentences written to Toysdf1.txt\n",
            "Sentences written to Toysdf1.txt\n",
            "Sentences written to Toysdf1.txt\n",
            "Sentences written to Toysdf1.txt\n",
            "Sentences written to Toysdf1.txt\n",
            "Sentences written to Toysdf1.txt\n",
            "Sentences written to Toysdf1.txt\n",
            "Sentences written to Toysdf1.txt\n",
            "Sentences written to Toysdf1.txt\n",
            "Sentences written to Toysdf1.txt\n",
            "Sentences written to Toysdf1.txt\n",
            "Sentences written to Toysdf1.txt\n",
            "Sentences written to Toysdf1.txt\n",
            "Sentences written to Toysdf1.txt\n",
            "Sentences written to Toysdf1.txt\n",
            "Sentences written to Toysdf1.txt\n",
            "Sentences written to Toysdf1.txt\n",
            "Sentences written to Toysdf1.txt\n",
            "Sentences written to Toysdf1.txt\n",
            "Sentences written to Toysdf1.txt\n",
            "Sentences written to Toysdf1.txt\n",
            "Sentences written to Toysdf1.txt\n",
            "Sentences written to Toysdf1.txt\n",
            "Sentences written to Toysdf1.txt\n",
            "Sentences written to Toysdf1.txt\n",
            "Sentences written to Toysdf1.txt\n",
            "Sentences written to Toysdf1.txt\n",
            "Sentences written to Toysdf1.txt\n",
            "Sentences written to Toysdf1.txt\n",
            "Sentences written to Toysdf1.txt\n",
            "Sentences written to Toysdf1.txt\n",
            "Sentences written to Toysdf1.txt\n",
            "Sentences written to Toysdf1.txt\n",
            "Sentences written to Toysdf1.txt\n",
            "Sentences written to Toysdf1.txt\n",
            "Sentences written to Toysdf1.txt\n",
            "Sentences written to Toysdf1.txt\n",
            "Sentences written to Toysdf1.txt\n",
            "Sentences written to Toysdf1.txt\n",
            "Sentences written to Toysdf1.txt\n",
            "Sentences written to Toysdf1.txt\n",
            "Sentences written to Toysdf1.txt\n",
            "Sentences written to Toysdf1.txt\n",
            "Sentences written to Toysdf1.txt\n",
            "Sentences written to Toysdf1.txt\n",
            "Sentences written to Toysdf1.txt\n",
            "Sentences written to Toysdf1.txt\n",
            "Sentences written to Toysdf1.txt\n",
            "Sentences written to Toysdf1.txt\n",
            "Sentences written to Toysdf1.txt\n",
            "Sentences written to Toysdf1.txt\n",
            "Sentences written to Toysdf1.txt\n",
            "Sentences written to Toysdf1.txt\n",
            "Sentences written to Toysdf1.txt\n",
            "Sentences written to Toysdf1.txt\n",
            "Sentences written to Toysdf1.txt\n",
            "Sentences written to Toysdf1.txt\n",
            "Sentences written to Toysdf1.txt\n",
            "Sentences written to Toysdf1.txt\n",
            "Sentences written to Toysdf1.txt\n",
            "Sentences written to Toysdf1.txt\n",
            "Sentences written to Toysdf1.txt\n",
            "Sentences written to Toysdf1.txt\n",
            "Sentences written to Toysdf1.txt\n",
            "Sentences written to Toysdf1.txt\n",
            "Sentences written to Toysdf1.txt\n",
            "Sentences written to Toysdf1.txt\n",
            "Sentences written to Toysdf1.txt\n",
            "Sentences written to Toysdf1.txt\n",
            "Sentences written to Toysdf1.txt\n",
            "Sentences written to Toysdf1.txt\n",
            "Sentences written to Toysdf1.txt\n",
            "Sentences written to Toysdf1.txt\n",
            "Sentences written to Toysdf1.txt\n",
            "Sentences written to Toysdf1.txt\n",
            "Sentences written to Toysdf1.txt\n",
            "Sentences written to Toysdf1.txt\n",
            "Sentences written to Toysdf1.txt\n",
            "Sentences written to Toysdf1.txt\n",
            "Sentences written to Toysdf1.txt\n",
            "Sentences written to Toysdf1.txt\n",
            "Sentences written to Toysdf1.txt\n",
            "Sentences written to Toysdf1.txt\n",
            "Sentences written to Toysdf1.txt\n",
            "Sentences written to Toysdf1.txt\n",
            "Sentences written to Toysdf1.txt\n",
            "Sentences written to Toysdf1.txt\n",
            "Sentences written to Toysdf1.txt\n",
            "Sentences written to Toysdf1.txt\n",
            "Sentences written to Toysdf1.txt\n",
            "Sentences written to Toysdf1.txt\n",
            "Sentences written to Toysdf1.txt\n",
            "Sentences written to Toysdf1.txt\n",
            "Sentences written to Toysdf1.txt\n",
            "Sentences written to Toysdf1.txt\n",
            "Sentences written to Toysdf1.txt\n",
            "Sentences written to Toysdf1.txt\n",
            "Sentences written to Toysdf1.txt\n",
            "Sentences written to Toysdf1.txt\n",
            "Sentences written to Toysdf1.txt\n",
            "Sentences written to Toysdf1.txt\n",
            "Sentences written to Toysdf1.txt\n",
            "Sentences written to Toysdf1.txt\n",
            "Sentences written to Toysdf1.txt\n",
            "Sentences written to Toysdf1.txt\n",
            "Sentences written to Toysdf1.txt\n",
            "Sentences written to Toysdf1.txt\n",
            "Sentences written to Toysdf1.txt\n",
            "Sentences written to Toysdf1.txt\n",
            "Sentences written to Toysdf1.txt\n",
            "Sentences written to Toysdf1.txt\n",
            "Sentences written to Toysdf1.txt\n",
            "Sentences written to Toysdf1.txt\n",
            "Sentences written to Toysdf1.txt\n",
            "Sentences written to Toysdf1.txt\n",
            "Sentences written to Toysdf1.txt\n",
            "Sentences written to Toysdf1.txt\n",
            "Sentences written to Toysdf1.txt\n",
            "Sentences written to Toysdf1.txt\n",
            "Sentences written to Toysdf1.txt\n",
            "Sentences written to Toysdf1.txt\n",
            "Sentences written to Toysdf1.txt\n",
            "Sentences written to Toysdf1.txt\n",
            "Sentences written to Toysdf1.txt\n",
            "Sentences written to Toysdf1.txt\n",
            "Sentences written to Toysdf1.txt\n",
            "Sentences written to Toysdf1.txt\n",
            "Sentences written to Toysdf1.txt\n",
            "Sentences written to Toysdf1.txt\n",
            "Sentences written to Toysdf1.txt\n",
            "Sentences written to Toysdf1.txt\n",
            "Sentences written to Toysdf1.txt\n",
            "Sentences written to Toysdf1.txt\n",
            "Sentences written to Toysdf1.txt\n",
            "Sentences written to Toysdf1.txt\n",
            "Sentences written to Toysdf1.txt\n",
            "Sentences written to Toysdf1.txt\n",
            "Sentences written to Toysdf1.txt\n",
            "Sentences written to Toysdf1.txt\n",
            "Sentences written to Toysdf1.txt\n",
            "Sentences written to Toysdf1.txt\n",
            "Sentences written to Toysdf1.txt\n",
            "Sentences written to Toysdf1.txt\n",
            "Sentences written to Toysdf1.txt\n",
            "Sentences written to Toysdf1.txt\n",
            "Sentences written to Toysdf1.txt\n",
            "Sentences written to Toysdf1.txt\n",
            "Sentences written to Toysdf1.txt\n",
            "Sentences written to Toysdf1.txt\n",
            "Sentences written to Toysdf1.txt\n",
            "Sentences written to Toysdf1.txt\n",
            "Sentences written to Toysdf1.txt\n",
            "Sentences written to Toysdf1.txt\n",
            "Sentences written to Toysdf1.txt\n",
            "Sentences written to Toysdf1.txt\n",
            "Sentences written to Toysdf1.txt\n",
            "Sentences written to Toysdf1.txt\n",
            "Sentences written to Toysdf1.txt\n",
            "Sentences written to Toysdf1.txt\n",
            "Sentences written to Toysdf1.txt\n",
            "Sentences written to Toysdf1.txt\n",
            "Sentences written to Toysdf1.txt\n",
            "Sentences written to Toysdf1.txt\n",
            "Sentences written to Toysdf1.txt\n",
            "Sentences written to Toysdf1.txt\n",
            "Sentences written to Toysdf1.txt\n",
            "Sentences written to Toysdf1.txt\n",
            "Sentences written to Toysdf1.txt\n",
            "Sentences written to Toysdf1.txt\n",
            "Sentences written to Toysdf1.txt\n",
            "Sentences written to Toysdf1.txt\n",
            "Sentences written to Toysdf1.txt\n",
            "Sentences written to Toysdf1.txt\n",
            "Sentences written to Toysdf1.txt\n",
            "Sentences written to Toysdf1.txt\n",
            "Sentences written to Toysdf1.txt\n",
            "Sentences written to Toysdf1.txt\n",
            "Sentences written to Toysdf1.txt\n",
            "Sentences written to Toysdf1.txt\n",
            "Sentences written to Toysdf1.txt\n",
            "Sentences written to Toysdf1.txt\n",
            "Sentences written to Toysdf1.txt\n",
            "Sentences written to Toysdf1.txt\n",
            "Sentences written to Toysdf1.txt\n",
            "Sentences written to Toysdf1.txt\n",
            "Sentences written to Toysdf1.txt\n",
            "Sentences written to Toysdf1.txt\n",
            "Sentences written to Toysdf1.txt\n",
            "Sentences written to Toysdf1.txt\n",
            "Sentences written to Toysdf1.txt\n",
            "Sentences written to Toysdf1.txt\n",
            "Sentences written to Toysdf1.txt\n",
            "Sentences written to Toysdf1.txt\n",
            "Sentences written to Toysdf1.txt\n",
            "Sentences written to Toysdf1.txt\n",
            "Sentences written to Toysdf1.txt\n",
            "Sentences written to Toysdf1.txt\n",
            "Sentences written to Toysdf1.txt\n",
            "Sentences written to Toysdf1.txt\n",
            "Sentences written to Toysdf1.txt\n",
            "Sentences written to Toysdf1.txt\n",
            "Sentences written to Toysdf1.txt\n",
            "Sentences written to Toysdf1.txt\n",
            "Sentences written to Toysdf1.txt\n",
            "Sentences written to Toysdf1.txt\n",
            "Sentences written to Toysdf1.txt\n",
            "Sentences written to Toysdf1.txt\n",
            "Sentences written to Toysdf1.txt\n",
            "Sentences written to Toysdf1.txt\n",
            "Sentences written to Toysdf1.txt\n",
            "Sentences written to Toysdf1.txt\n",
            "Sentences written to Toysdf1.txt\n",
            "Sentences written to Toysdf1.txt\n",
            "Sentences written to Toysdf1.txt\n",
            "Sentences written to Toysdf1.txt\n",
            "Sentences written to Toysdf1.txt\n",
            "Sentences written to Toysdf1.txt\n",
            "Sentences written to Toysdf1.txt\n",
            "Sentences written to Toysdf1.txt\n",
            "Sentences written to Toysdf1.txt\n",
            "Sentences written to Toysdf1.txt\n",
            "Sentences written to Toysdf1.txt\n",
            "Sentences written to Toysdf1.txt\n",
            "Sentences written to Toysdf1.txt\n",
            "Sentences written to Toysdf1.txt\n",
            "Sentences written to Toysdf1.txt\n",
            "Sentences written to Toysdf1.txt\n",
            "Sentences written to Toysdf1.txt\n",
            "Sentences written to Toysdf1.txt\n",
            "Sentences written to Toysdf1.txt\n",
            "Sentences written to Toysdf1.txt\n",
            "Sentences written to Toysdf1.txt\n",
            "Sentences written to Toysdf1.txt\n",
            "Sentences written to Toysdf1.txt\n",
            "Sentences written to Toysdf1.txt\n",
            "Sentences written to Toysdf1.txt\n",
            "Sentences written to Toysdf1.txt\n",
            "Sentences written to Toysdf1.txt\n",
            "Sentences written to Toysdf1.txt\n",
            "Sentences written to Toysdf1.txt\n",
            "Sentences written to Toysdf1.txt\n",
            "Sentences written to Toysdf1.txt\n",
            "Sentences written to Toysdf1.txt\n",
            "Sentences written to Toysdf1.txt\n",
            "Sentences written to Toysdf1.txt\n",
            "Sentences written to Toysdf1.txt\n",
            "Sentences written to Toysdf1.txt\n",
            "Sentences written to Toysdf1.txt\n",
            "Sentences written to Toysdf1.txt\n",
            "Sentences written to Toysdf1.txt\n",
            "Sentences written to Toysdf1.txt\n",
            "Sentences written to Toysdf1.txt\n",
            "Sentences written to Toysdf1.txt\n",
            "Sentences written to Toysdf1.txt\n",
            "Sentences written to Toysdf1.txt\n",
            "Sentences written to Toysdf1.txt\n",
            "Sentences written to Toysdf1.txt\n",
            "Sentences written to Toysdf1.txt\n",
            "Sentences written to Toysdf1.txt\n",
            "Sentences written to Toysdf1.txt\n",
            "Sentences written to Toysdf1.txt\n",
            "Sentences written to Toysdf1.txt\n",
            "Sentences written to Toysdf1.txt\n",
            "Sentences written to Toysdf1.txt\n",
            "Sentences written to Toysdf1.txt\n",
            "Sentences written to Toysdf1.txt\n",
            "Sentences written to Toysdf1.txt\n",
            "Sentences written to Toysdf1.txt\n",
            "Sentences written to Toysdf1.txt\n",
            "Sentences written to Toysdf1.txt\n",
            "Sentences written to Toysdf1.txt\n",
            "Sentences written to Toysdf1.txt\n",
            "Sentences written to Toysdf1.txt\n",
            "Sentences written to Toysdf1.txt\n",
            "Sentences written to Toysdf1.txt\n",
            "Sentences written to Toysdf1.txt\n",
            "Sentences written to Toysdf1.txt\n",
            "Sentences written to Toysdf1.txt\n",
            "Sentences written to Toysdf1.txt\n",
            "Sentences written to Toysdf1.txt\n",
            "Sentences written to Toysdf1.txt\n",
            "Sentences written to Toysdf1.txt\n",
            "Sentences written to Toysdf1.txt\n",
            "Sentences written to Toysdf1.txt\n",
            "Sentences written to Toysdf1.txt\n",
            "Sentences written to Toysdf1.txt\n",
            "Sentences written to Toysdf1.txt\n",
            "Sentences written to Toysdf1.txt\n",
            "Sentences written to Toysdf1.txt\n",
            "Sentences written to Toysdf1.txt\n",
            "Sentences written to Toysdf1.txt\n",
            "Sentences written to Toysdf1.txt\n",
            "Sentences written to Toysdf1.txt\n",
            "Sentences written to Toysdf1.txt\n",
            "Sentences written to Toysdf1.txt\n",
            "Sentences written to Toysdf1.txt\n",
            "Sentences written to Toysdf1.txt\n",
            "Sentences written to Toysdf1.txt\n",
            "Sentences written to Toysdf1.txt\n",
            "Sentences written to Toysdf1.txt\n",
            "Sentences written to Toysdf1.txt\n",
            "Sentences written to Toysdf1.txt\n",
            "Sentences written to Toysdf1.txt\n",
            "Sentences written to Toysdf1.txt\n",
            "Sentences written to Toysdf1.txt\n",
            "Sentences written to Toysdf1.txt\n",
            "Sentences written to Toysdf1.txt\n",
            "Sentences written to Toysdf1.txt\n",
            "Sentences written to Toysdf1.txt\n",
            "Sentences written to Toysdf1.txt\n",
            "Sentences written to Toysdf1.txt\n",
            "Sentences written to Toysdf1.txt\n",
            "Sentences written to Toysdf1.txt\n",
            "Sentences written to Toysdf1.txt\n",
            "Sentences written to Toysdf1.txt\n",
            "Sentences written to Toysdf1.txt\n",
            "Sentences written to Toysdf1.txt\n",
            "Sentences written to Toysdf1.txt\n",
            "Sentences written to Toysdf1.txt\n",
            "Sentences written to Toysdf1.txt\n",
            "Sentences written to Toysdf1.txt\n",
            "Sentences written to Toysdf1.txt\n",
            "Sentences written to Toysdf1.txt\n",
            "Sentences written to Toysdf1.txt\n",
            "Sentences written to Toysdf1.txt\n"
          ]
        }
      ]
    },
    {
      "cell_type": "code",
      "source": [],
      "metadata": {
        "colab": {
          "base_uri": "https://localhost:8080/",
          "height": 175
        },
        "id": "4bkAFLQO3O_j",
        "outputId": "05ae4260-489a-486a-d624-d7a6a832d74a"
      },
      "execution_count": 125,
      "outputs": [
        {
          "output_type": "error",
          "ename": "NameError",
          "evalue": "ignored",
          "traceback": [
            "\u001b[0;31m---------------------------------------------------------------------------\u001b[0m",
            "\u001b[0;31mNameError\u001b[0m                                 Traceback (most recent call last)",
            "\u001b[0;32m<ipython-input-125-fb73695cc697>\u001b[0m in \u001b[0;36m<cell line: 1>\u001b[0;34m()\u001b[0m\n\u001b[0;32m----> 1\u001b[0;31m \u001b[0mos\u001b[0m\u001b[0;34m.\u001b[0m\u001b[0mdownload\u001b[0m\u001b[0;34m(\u001b[0m\u001b[0mtoysdf\u001b[0m\u001b[0;34m.\u001b[0m\u001b[0mtxt\u001b[0m\u001b[0;34m)\u001b[0m\u001b[0;34m\u001b[0m\u001b[0;34m\u001b[0m\u001b[0m\n\u001b[0m",
            "\u001b[0;31mNameError\u001b[0m: name 'os' is not defined"
          ]
        }
      ]
    },
    {
      "cell_type": "code",
      "source": [],
      "metadata": {
        "id": "3PQOTHVpLZHb"
      },
      "execution_count": null,
      "outputs": []
    }
  ]
}